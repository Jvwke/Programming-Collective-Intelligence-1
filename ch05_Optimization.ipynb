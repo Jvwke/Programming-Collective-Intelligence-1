{
 "cells": [
  {
   "cell_type": "code",
   "execution_count": 1,
   "metadata": {
    "collapsed": true
   },
   "outputs": [],
   "source": [
    "import time\n",
    "import random\n",
    "import math"
   ]
  },
  {
   "cell_type": "code",
   "execution_count": 2,
   "metadata": {
    "collapsed": true
   },
   "outputs": [],
   "source": [
    "people = [('Seymour','BOS'),\n",
    "          ('Franny','DAL'),\n",
    "          ('Zooey','CAK'),\n",
    "          ('Walt','MIA'),\n",
    "          ('Buddy','ORD'),\n",
    "          ('Les','OMA')]\n",
    "# Laguardia\n",
    "destination='LGA'"
   ]
  },
  {
   "cell_type": "code",
   "execution_count": 4,
   "metadata": {
    "collapsed": false
   },
   "outputs": [],
   "source": [
    "flights={}\n",
    "# \n",
    "for line in open('./chapter5/schedule.txt'):\n",
    "    origin,dest,depart,arrive,price=line.strip().split(',')\n",
    "    flights.setdefault((origin,dest),[])\n",
    "\n",
    "    # Add details to the list of possible flights\n",
    "    flights[(origin,dest)].append((depart,arrive,int(price)))\n",
    "\n",
    "def getminutes(t):\n",
    "    x=time.strptime(t,'%H:%M')\n",
    "    return x[3]*60+x[4]"
   ]
  },
  {
   "cell_type": "code",
   "execution_count": 13,
   "metadata": {
    "collapsed": false
   },
   "outputs": [],
   "source": [
    "def printschedule(r):\n",
    "    for d in range(int(len(r)/2)):\n",
    "        name = people[d][0]\n",
    "        origin = people[d][1]\n",
    "        out = flights[(origin, destination)][r[2 * d]]\n",
    "        ret = flights[(destination, origin)][r[2 * d + 1]]\n",
    "        print(('%10s%10s %5s-%5s $%3s %5s-%5s $%3s') % (name, origin,\n",
    "                                                      out[0], out[1], out[2], \n",
    "                                                      ret[0], ret[1], ret[2]))"
   ]
  },
  {
   "cell_type": "code",
   "execution_count": 14,
   "metadata": {
    "collapsed": false
   },
   "outputs": [
    {
     "name": "stdout",
     "output_type": "stream",
     "text": [
      "   Seymour       BOS  8:04-10:11 $ 95 12:08-14:05 $142\n",
      "    Franny       DAL 10:30-14:57 $290  9:49-13:51 $229\n",
      "     Zooey       CAK 17:08-19:08 $262 10:32-13:16 $139\n",
      "      Walt       MIA 15:34-18:11 $326 11:08-14:38 $262\n",
      "     Buddy       ORD  9:42-11:32 $169 12:08-14:47 $231\n",
      "       Les       OMA 13:37-15:08 $250 11:07-13:24 $171\n"
     ]
    }
   ],
   "source": [
    "s = [1, 4, 3, 2, 7, 3, 6, 3, 2, 4, 5, 3]\n",
    "printschedule(s)"
   ]
  },
  {
   "cell_type": "code",
   "execution_count": 25,
   "metadata": {
    "collapsed": false
   },
   "outputs": [],
   "source": [
    "def schedulecost(sol):\n",
    "    totalprice = 0\n",
    "    latestarrival = 0\n",
    "    earliestdep = 24 * 60\n",
    "    \n",
    "    for d in range(int(len(sol) / 2)):\n",
    "        origin = people[d][1]\n",
    "        outbound = flights[(origin, destination)][int(sol[2 * d])]\n",
    "        returnf  = flights[(destination, origin)][int(sol[2 * d + 1])]\n",
    "        \n",
    "        totalprice += outbound[2]\n",
    "        totalprice += returnf[2]\n",
    "        \n",
    "        if latestarrival < getminutes(outbound[1]): latestarrival = getminutes(outbound[1])\n",
    "        if earliestdep > getminutes(returnf[0]): earliestdep = getminutes(returnf[0])\n",
    "            \n",
    "    totalwait = 0\n",
    "    for d in range(int(len(sol) / 2)):\n",
    "        origin = people[d][1]\n",
    "        outbound = flights[(origin, destination)][int(sol[2 * d])]\n",
    "        returnf = flights[(destination, origin)][int(sol[2 * d + 1])]\n",
    "        totalwait += latestarrival - getminutes(outbound[1])\n",
    "        totalwait += getminutes(returnf[0]) - earliestdep\n",
    "    \n",
    "    if latestarrival > earliestdep: totalprice += 50\n",
    "        \n",
    "    return totalprice + totalwait"
   ]
  },
  {
   "cell_type": "code",
   "execution_count": 26,
   "metadata": {
    "collapsed": false
   },
   "outputs": [
    {
     "data": {
      "text/plain": [
       "4635"
      ]
     },
     "execution_count": 26,
     "metadata": {},
     "output_type": "execute_result"
    }
   ],
   "source": [
    "schedulecost(s)"
   ]
  },
  {
   "cell_type": "code",
   "execution_count": 31,
   "metadata": {
    "collapsed": false
   },
   "outputs": [],
   "source": [
    "def randomoptimize(domain, costf):\n",
    "    best = 999999999\n",
    "    bestr = None\n",
    "    for i in range(1000):\n",
    "        r = [random.randint(domain[i][0], domain[i][1])\n",
    "             for i in range(len(domain))]\n",
    "        \n",
    "        cost = costf(r)\n",
    "        \n",
    "        if cost < best:\n",
    "            best = cost\n",
    "            bestr = r\n",
    "    return r"
   ]
  },
  {
   "cell_type": "code",
   "execution_count": 33,
   "metadata": {
    "collapsed": false
   },
   "outputs": [
    {
     "data": {
      "text/plain": [
       "5818"
      ]
     },
     "execution_count": 33,
     "metadata": {},
     "output_type": "execute_result"
    }
   ],
   "source": [
    "domain = [(0, 9)] * (len(people) * 2)\n",
    "s = randomoptimize(domain, schedulecost)\n",
    "schedulecost(s)"
   ]
  },
  {
   "cell_type": "code",
   "execution_count": 34,
   "metadata": {
    "collapsed": false
   },
   "outputs": [
    {
     "name": "stdout",
     "output_type": "stream",
     "text": [
      "   Seymour       BOS 15:27-17:18 $151 13:39-15:30 $ 74\n",
      "    Franny       DAL 10:30-14:57 $290  9:49-13:51 $229\n",
      "     Zooey       CAK 18:35-20:28 $204 10:32-13:16 $139\n",
      "      Walt       MIA 12:05-15:30 $330  9:25-12:46 $295\n",
      "     Buddy       ORD 11:01-12:39 $260 18:33-20:22 $143\n",
      "       Les       OMA  6:11- 8:31 $249 14:05-15:47 $226\n"
     ]
    }
   ],
   "source": [
    "printschedule(s)"
   ]
  },
  {
   "cell_type": "code",
   "execution_count": 46,
   "metadata": {
    "collapsed": false
   },
   "outputs": [],
   "source": [
    "def hillclimb(domain,costf):\n",
    "    # Create a random solution\n",
    "    sol=[random.randint(domain[i][0],domain[i][1]) for i in range(len(domain))]\n",
    "    \n",
    "    # Main loop\n",
    "    while 1:\n",
    "        # Create list of neighboring solutions\n",
    "        neighbors=[]\n",
    "    \n",
    "        for j in range(len(domain)):\n",
    "            # One away in each direction\n",
    "            if sol[j]>domain[j][0]:\n",
    "                neighbors.append(sol[0:j]+[sol[j]-1]+sol[j+1:]) # \n",
    "            if sol[j]<domain[j][1]:\n",
    "                neighbors.append(sol[0:j]+[sol[j]+1]+sol[j+1:])\n",
    "\n",
    "        # See what the best solution amongst the neighbors is\n",
    "        current=costf(sol)\n",
    "        best=current\n",
    "        for j in range(len(neighbors)):\n",
    "            cost=costf(neighbors[j])\n",
    "            if cost<best:\n",
    "                best=cost\n",
    "                sol=neighbors[j]\n",
    "\n",
    "        # If there's no improvement, then we've reached the top\n",
    "        if best==current: break\n",
    "\n",
    "    return sol"
   ]
  },
  {
   "cell_type": "code",
   "execution_count": 52,
   "metadata": {
    "collapsed": false
   },
   "outputs": [
    {
     "data": {
      "text/plain": [
       "4385"
      ]
     },
     "execution_count": 52,
     "metadata": {},
     "output_type": "execute_result"
    }
   ],
   "source": [
    "s = hillclimb(domain, schedulecost)\n",
    "schedulecost(s)"
   ]
  },
  {
   "cell_type": "code",
   "execution_count": 51,
   "metadata": {
    "collapsed": false
   },
   "outputs": [
    {
     "name": "stdout",
     "output_type": "stream",
     "text": [
      "   Seymour       BOS 13:40-15:37 $138 10:33-12:03 $ 74\n",
      "    Franny       DAL 10:30-14:57 $290 10:51-14:16 $256\n",
      "     Zooey       CAK 13:40-15:38 $137 13:37-15:33 $142\n",
      "      Walt       MIA 11:28-14:40 $248 12:37-15:05 $170\n",
      "     Buddy       ORD 14:22-16:32 $126 10:33-13:11 $132\n",
      "       Les       OMA 15:03-16:42 $135 15:07-17:21 $129\n"
     ]
    }
   ],
   "source": [
    "printschedule(s)"
   ]
  },
  {
   "cell_type": "code",
   "execution_count": 55,
   "metadata": {
    "collapsed": true
   },
   "outputs": [],
   "source": [
    "# simulated annealing\n",
    "\n",
    "def annealingoptimize(domain, costf, T=10000.0, cool=0.95, step=1):\n",
    "    # get random opt value\n",
    "    vec = [float(random.randint(domain[i][0], domain[i][1]))\n",
    "          for i in range(len(domain))]\n",
    "    \n",
    "    while T > 0.1:\n",
    "        # get index\n",
    "        i = random.randint(0, len(domain) -1)\n",
    "        # selection direction update index\n",
    "        direction = random.randint(-step, step)\n",
    "        \n",
    "        # built solution list\n",
    "        vecb = vec[:]\n",
    "        vecb[i] += direction\n",
    "        if vecb[i] < domain[i][0]: vecb[i] = domain[i][0]\n",
    "        elif vecb[i] > domain[i][1]: vecb[i] = domain[i][1]\n",
    "            \n",
    "        # calculate current cost\n",
    "        ea = costf(vec)\n",
    "        eb = costf(vecb)\n",
    "        \n",
    "        #\n",
    "        if (eb < ea or random.random() < pow(math.e, -(eb-ea)/T)):\n",
    "            vec = vecb\n",
    "        \n",
    "        # decrease temp\n",
    "        t = T * cool\n",
    "    return vec"
   ]
  },
  {
   "cell_type": "code",
   "execution_count": 56,
   "metadata": {
    "collapsed": false
   },
   "outputs": [
    {
     "ename": "KeyboardInterrupt",
     "evalue": "",
     "output_type": "error",
     "traceback": [
      "\u001b[1;31m---------------------------------------------------------------------------\u001b[0m",
      "\u001b[1;31mKeyboardInterrupt\u001b[0m                         Traceback (most recent call last)",
      "\u001b[1;32m<ipython-input-56-e770ce6d412c>\u001b[0m in \u001b[0;36m<module>\u001b[1;34m()\u001b[0m\n\u001b[1;32m----> 1\u001b[1;33m \u001b[0ms\u001b[0m \u001b[1;33m=\u001b[0m \u001b[0mannealingoptimize\u001b[0m\u001b[1;33m(\u001b[0m\u001b[0mdomain\u001b[0m\u001b[1;33m,\u001b[0m \u001b[0mschedulecost\u001b[0m\u001b[1;33m)\u001b[0m\u001b[1;33m\u001b[0m\u001b[0m\n\u001b[0m\u001b[0;32m      2\u001b[0m \u001b[0mschedulecost\u001b[0m\u001b[1;33m(\u001b[0m\u001b[0ms\u001b[0m\u001b[1;33m)\u001b[0m\u001b[1;33m\u001b[0m\u001b[0m\n",
      "\u001b[1;32m<ipython-input-55-ddd7b2841ea3>\u001b[0m in \u001b[0;36mannealingoptimize\u001b[1;34m(domain, costf, T, cool, step)\u001b[0m\n\u001b[0;32m     19\u001b[0m \u001b[1;33m\u001b[0m\u001b[0m\n\u001b[0;32m     20\u001b[0m         \u001b[1;31m# calculate current cost\u001b[0m\u001b[1;33m\u001b[0m\u001b[1;33m\u001b[0m\u001b[0m\n\u001b[1;32m---> 21\u001b[1;33m         \u001b[0mea\u001b[0m \u001b[1;33m=\u001b[0m \u001b[0mcostf\u001b[0m\u001b[1;33m(\u001b[0m\u001b[0mvec\u001b[0m\u001b[1;33m)\u001b[0m\u001b[1;33m\u001b[0m\u001b[0m\n\u001b[0m\u001b[0;32m     22\u001b[0m         \u001b[0meb\u001b[0m \u001b[1;33m=\u001b[0m \u001b[0mcostf\u001b[0m\u001b[1;33m(\u001b[0m\u001b[0mvecb\u001b[0m\u001b[1;33m)\u001b[0m\u001b[1;33m\u001b[0m\u001b[0m\n\u001b[0;32m     23\u001b[0m \u001b[1;33m\u001b[0m\u001b[0m\n",
      "\u001b[1;32m<ipython-input-25-52e71db8ead3>\u001b[0m in \u001b[0;36mschedulecost\u001b[1;34m(sol)\u001b[0m\n\u001b[0;32m     21\u001b[0m         \u001b[0mreturnf\u001b[0m \u001b[1;33m=\u001b[0m \u001b[0mflights\u001b[0m\u001b[1;33m[\u001b[0m\u001b[1;33m(\u001b[0m\u001b[0mdestination\u001b[0m\u001b[1;33m,\u001b[0m \u001b[0morigin\u001b[0m\u001b[1;33m)\u001b[0m\u001b[1;33m]\u001b[0m\u001b[1;33m[\u001b[0m\u001b[0mint\u001b[0m\u001b[1;33m(\u001b[0m\u001b[0msol\u001b[0m\u001b[1;33m[\u001b[0m\u001b[1;36m2\u001b[0m \u001b[1;33m*\u001b[0m \u001b[0md\u001b[0m \u001b[1;33m+\u001b[0m \u001b[1;36m1\u001b[0m\u001b[1;33m]\u001b[0m\u001b[1;33m)\u001b[0m\u001b[1;33m]\u001b[0m\u001b[1;33m\u001b[0m\u001b[0m\n\u001b[0;32m     22\u001b[0m         \u001b[0mtotalwait\u001b[0m \u001b[1;33m+=\u001b[0m \u001b[0mlatestarrival\u001b[0m \u001b[1;33m-\u001b[0m \u001b[0mgetminutes\u001b[0m\u001b[1;33m(\u001b[0m\u001b[0moutbound\u001b[0m\u001b[1;33m[\u001b[0m\u001b[1;36m1\u001b[0m\u001b[1;33m]\u001b[0m\u001b[1;33m)\u001b[0m\u001b[1;33m\u001b[0m\u001b[0m\n\u001b[1;32m---> 23\u001b[1;33m         \u001b[0mtotalwait\u001b[0m \u001b[1;33m+=\u001b[0m \u001b[0mgetminutes\u001b[0m\u001b[1;33m(\u001b[0m\u001b[0mreturnf\u001b[0m\u001b[1;33m[\u001b[0m\u001b[1;36m0\u001b[0m\u001b[1;33m]\u001b[0m\u001b[1;33m)\u001b[0m \u001b[1;33m-\u001b[0m \u001b[0mearliestdep\u001b[0m\u001b[1;33m\u001b[0m\u001b[0m\n\u001b[0m\u001b[0;32m     24\u001b[0m \u001b[1;33m\u001b[0m\u001b[0m\n\u001b[0;32m     25\u001b[0m     \u001b[1;32mif\u001b[0m \u001b[0mlatestarrival\u001b[0m \u001b[1;33m>\u001b[0m \u001b[0mearliestdep\u001b[0m\u001b[1;33m:\u001b[0m \u001b[0mtotalprice\u001b[0m \u001b[1;33m+=\u001b[0m \u001b[1;36m50\u001b[0m\u001b[1;33m\u001b[0m\u001b[0m\n",
      "\u001b[1;32m<ipython-input-4-f427e3e2fa4b>\u001b[0m in \u001b[0;36mgetminutes\u001b[1;34m(t)\u001b[0m\n\u001b[0;32m      9\u001b[0m \u001b[1;33m\u001b[0m\u001b[0m\n\u001b[0;32m     10\u001b[0m \u001b[1;32mdef\u001b[0m \u001b[0mgetminutes\u001b[0m\u001b[1;33m(\u001b[0m\u001b[0mt\u001b[0m\u001b[1;33m)\u001b[0m\u001b[1;33m:\u001b[0m\u001b[1;33m\u001b[0m\u001b[0m\n\u001b[1;32m---> 11\u001b[1;33m     \u001b[0mx\u001b[0m\u001b[1;33m=\u001b[0m\u001b[0mtime\u001b[0m\u001b[1;33m.\u001b[0m\u001b[0mstrptime\u001b[0m\u001b[1;33m(\u001b[0m\u001b[0mt\u001b[0m\u001b[1;33m,\u001b[0m\u001b[1;34m'%H:%M'\u001b[0m\u001b[1;33m)\u001b[0m\u001b[1;33m\u001b[0m\u001b[0m\n\u001b[0m\u001b[0;32m     12\u001b[0m     \u001b[1;32mreturn\u001b[0m \u001b[0mx\u001b[0m\u001b[1;33m[\u001b[0m\u001b[1;36m3\u001b[0m\u001b[1;33m]\u001b[0m\u001b[1;33m*\u001b[0m\u001b[1;36m60\u001b[0m\u001b[1;33m+\u001b[0m\u001b[0mx\u001b[0m\u001b[1;33m[\u001b[0m\u001b[1;36m4\u001b[0m\u001b[1;33m]\u001b[0m\u001b[1;33m\u001b[0m\u001b[0m\n",
      "\u001b[1;32mD:\\Program Files (x86)\\Continuum\\Anaconda3\\envs\\tensorflow\\lib\\_strptime.py\u001b[0m in \u001b[0;36m_strptime_time\u001b[1;34m(data_string, format)\u001b[0m\n\u001b[0;32m    502\u001b[0m     \"\"\"Return a time struct based on the input string and the\n\u001b[0;32m    503\u001b[0m     format string.\"\"\"\n\u001b[1;32m--> 504\u001b[1;33m     \u001b[0mtt\u001b[0m \u001b[1;33m=\u001b[0m \u001b[0m_strptime\u001b[0m\u001b[1;33m(\u001b[0m\u001b[0mdata_string\u001b[0m\u001b[1;33m,\u001b[0m \u001b[0mformat\u001b[0m\u001b[1;33m)\u001b[0m\u001b[1;33m[\u001b[0m\u001b[1;36m0\u001b[0m\u001b[1;33m]\u001b[0m\u001b[1;33m\u001b[0m\u001b[0m\n\u001b[0m\u001b[0;32m    505\u001b[0m     \u001b[1;32mreturn\u001b[0m \u001b[0mtime\u001b[0m\u001b[1;33m.\u001b[0m\u001b[0mstruct_time\u001b[0m\u001b[1;33m(\u001b[0m\u001b[0mtt\u001b[0m\u001b[1;33m[\u001b[0m\u001b[1;33m:\u001b[0m\u001b[0mtime\u001b[0m\u001b[1;33m.\u001b[0m\u001b[0m_STRUCT_TM_ITEMS\u001b[0m\u001b[1;33m]\u001b[0m\u001b[1;33m)\u001b[0m\u001b[1;33m\u001b[0m\u001b[0m\n\u001b[0;32m    506\u001b[0m \u001b[1;33m\u001b[0m\u001b[0m\n",
      "\u001b[1;32mD:\\Program Files (x86)\\Continuum\\Anaconda3\\envs\\tensorflow\\lib\\_strptime.py\u001b[0m in \u001b[0;36m_strptime\u001b[1;34m(data_string, format)\u001b[0m\n\u001b[0;32m    313\u001b[0m     \u001b[1;32mwith\u001b[0m \u001b[0m_cache_lock\u001b[0m\u001b[1;33m:\u001b[0m\u001b[1;33m\u001b[0m\u001b[0m\n\u001b[0;32m    314\u001b[0m         \u001b[0mlocale_time\u001b[0m \u001b[1;33m=\u001b[0m \u001b[0m_TimeRE_cache\u001b[0m\u001b[1;33m.\u001b[0m\u001b[0mlocale_time\u001b[0m\u001b[1;33m\u001b[0m\u001b[0m\n\u001b[1;32m--> 315\u001b[1;33m         if (_getlang() != locale_time.lang or\n\u001b[0m\u001b[0;32m    316\u001b[0m             \u001b[0mtime\u001b[0m\u001b[1;33m.\u001b[0m\u001b[0mtzname\u001b[0m \u001b[1;33m!=\u001b[0m \u001b[0mlocale_time\u001b[0m\u001b[1;33m.\u001b[0m\u001b[0mtzname\u001b[0m \u001b[1;32mor\u001b[0m\u001b[1;33m\u001b[0m\u001b[0m\n\u001b[0;32m    317\u001b[0m             time.daylight != locale_time.daylight):\n",
      "\u001b[1;32mD:\\Program Files (x86)\\Continuum\\Anaconda3\\envs\\tensorflow\\lib\\_strptime.py\u001b[0m in \u001b[0;36m_getlang\u001b[1;34m()\u001b[0m\n\u001b[0;32m     29\u001b[0m \u001b[1;32mdef\u001b[0m \u001b[0m_getlang\u001b[0m\u001b[1;33m(\u001b[0m\u001b[1;33m)\u001b[0m\u001b[1;33m:\u001b[0m\u001b[1;33m\u001b[0m\u001b[0m\n\u001b[0;32m     30\u001b[0m     \u001b[1;31m# Figure out what the current language is set to.\u001b[0m\u001b[1;33m\u001b[0m\u001b[1;33m\u001b[0m\u001b[0m\n\u001b[1;32m---> 31\u001b[1;33m     \u001b[1;32mreturn\u001b[0m \u001b[0mlocale\u001b[0m\u001b[1;33m.\u001b[0m\u001b[0mgetlocale\u001b[0m\u001b[1;33m(\u001b[0m\u001b[0mlocale\u001b[0m\u001b[1;33m.\u001b[0m\u001b[0mLC_TIME\u001b[0m\u001b[1;33m)\u001b[0m\u001b[1;33m\u001b[0m\u001b[0m\n\u001b[0m\u001b[0;32m     32\u001b[0m \u001b[1;33m\u001b[0m\u001b[0m\n\u001b[0;32m     33\u001b[0m \u001b[1;32mclass\u001b[0m \u001b[0mLocaleTime\u001b[0m\u001b[1;33m(\u001b[0m\u001b[0mobject\u001b[0m\u001b[1;33m)\u001b[0m\u001b[1;33m:\u001b[0m\u001b[1;33m\u001b[0m\u001b[0m\n",
      "\u001b[1;32mD:\\Program Files (x86)\\Continuum\\Anaconda3\\envs\\tensorflow\\lib\\locale.py\u001b[0m in \u001b[0;36mgetlocale\u001b[1;34m(category)\u001b[0m\n\u001b[0;32m    575\u001b[0m     \u001b[1;32mif\u001b[0m \u001b[0mcategory\u001b[0m \u001b[1;33m==\u001b[0m \u001b[0mLC_ALL\u001b[0m \u001b[1;32mand\u001b[0m \u001b[1;34m';'\u001b[0m \u001b[1;32min\u001b[0m \u001b[0mlocalename\u001b[0m\u001b[1;33m:\u001b[0m\u001b[1;33m\u001b[0m\u001b[0m\n\u001b[0;32m    576\u001b[0m         \u001b[1;32mraise\u001b[0m \u001b[0mTypeError\u001b[0m\u001b[1;33m(\u001b[0m\u001b[1;34m'category LC_ALL is not supported'\u001b[0m\u001b[1;33m)\u001b[0m\u001b[1;33m\u001b[0m\u001b[0m\n\u001b[1;32m--> 577\u001b[1;33m     \u001b[1;32mreturn\u001b[0m \u001b[0m_parse_localename\u001b[0m\u001b[1;33m(\u001b[0m\u001b[0mlocalename\u001b[0m\u001b[1;33m)\u001b[0m\u001b[1;33m\u001b[0m\u001b[0m\n\u001b[0m\u001b[0;32m    578\u001b[0m \u001b[1;33m\u001b[0m\u001b[0m\n\u001b[0;32m    579\u001b[0m \u001b[1;32mdef\u001b[0m \u001b[0msetlocale\u001b[0m\u001b[1;33m(\u001b[0m\u001b[0mcategory\u001b[0m\u001b[1;33m,\u001b[0m \u001b[0mlocale\u001b[0m\u001b[1;33m=\u001b[0m\u001b[1;32mNone\u001b[0m\u001b[1;33m)\u001b[0m\u001b[1;33m:\u001b[0m\u001b[1;33m\u001b[0m\u001b[0m\n",
      "\u001b[1;32mD:\\Program Files (x86)\\Continuum\\Anaconda3\\envs\\tensorflow\\lib\\locale.py\u001b[0m in \u001b[0;36m_parse_localename\u001b[1;34m(localename)\u001b[0m\n\u001b[0;32m    470\u001b[0m \u001b[1;33m\u001b[0m\u001b[0m\n\u001b[0;32m    471\u001b[0m     \"\"\"\n\u001b[1;32m--> 472\u001b[1;33m     \u001b[0mcode\u001b[0m \u001b[1;33m=\u001b[0m \u001b[0mnormalize\u001b[0m\u001b[1;33m(\u001b[0m\u001b[0mlocalename\u001b[0m\u001b[1;33m)\u001b[0m\u001b[1;33m\u001b[0m\u001b[0m\n\u001b[0m\u001b[0;32m    473\u001b[0m     \u001b[1;32mif\u001b[0m \u001b[1;34m'@'\u001b[0m \u001b[1;32min\u001b[0m \u001b[0mcode\u001b[0m\u001b[1;33m:\u001b[0m\u001b[1;33m\u001b[0m\u001b[0m\n\u001b[0;32m    474\u001b[0m         \u001b[1;31m# Deal with locale modifiers\u001b[0m\u001b[1;33m\u001b[0m\u001b[1;33m\u001b[0m\u001b[0m\n",
      "\u001b[1;32mD:\\Program Files (x86)\\Continuum\\Anaconda3\\envs\\tensorflow\\lib\\locale.py\u001b[0m in \u001b[0;36mnormalize\u001b[1;34m(localename)\u001b[0m\n\u001b[0;32m    390\u001b[0m     \"\"\"\n\u001b[0;32m    391\u001b[0m     \u001b[1;31m# Normalize the locale name and extract the encoding and modifier\u001b[0m\u001b[1;33m\u001b[0m\u001b[1;33m\u001b[0m\u001b[0m\n\u001b[1;32m--> 392\u001b[1;33m     \u001b[0mcode\u001b[0m \u001b[1;33m=\u001b[0m \u001b[0mlocalename\u001b[0m\u001b[1;33m.\u001b[0m\u001b[0mlower\u001b[0m\u001b[1;33m(\u001b[0m\u001b[1;33m)\u001b[0m\u001b[1;33m\u001b[0m\u001b[0m\n\u001b[0m\u001b[0;32m    393\u001b[0m     \u001b[1;32mif\u001b[0m \u001b[1;34m':'\u001b[0m \u001b[1;32min\u001b[0m \u001b[0mcode\u001b[0m\u001b[1;33m:\u001b[0m\u001b[1;33m\u001b[0m\u001b[0m\n\u001b[0;32m    394\u001b[0m         \u001b[1;31m# ':' is sometimes used as encoding delimiter.\u001b[0m\u001b[1;33m\u001b[0m\u001b[1;33m\u001b[0m\u001b[0m\n",
      "\u001b[1;31mKeyboardInterrupt\u001b[0m: "
     ]
    }
   ],
   "source": [
    "s = annealingoptimize(domain, schedulecost)\n",
    "schedulecost(s)"
   ]
  },
  {
   "cell_type": "code",
   "execution_count": null,
   "metadata": {
    "collapsed": true
   },
   "outputs": [],
   "source": [
    "printschedule(s)"
   ]
  }
 ],
 "metadata": {
  "kernelspec": {
   "display_name": "Python 3",
   "language": "python",
   "name": "python3"
  },
  "language_info": {
   "codemirror_mode": {
    "name": "ipython",
    "version": 3
   },
   "file_extension": ".py",
   "mimetype": "text/x-python",
   "name": "python",
   "nbconvert_exporter": "python",
   "pygments_lexer": "ipython3",
   "version": "3.5.3"
  }
 },
 "nbformat": 4,
 "nbformat_minor": 2
}
