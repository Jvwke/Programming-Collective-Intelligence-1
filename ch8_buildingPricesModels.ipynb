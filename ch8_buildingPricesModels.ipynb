{
 "cells": [
  {
   "cell_type": "code",
   "execution_count": 1,
   "metadata": {
    "collapsed": true
   },
   "outputs": [],
   "source": [
    "from random import random, randint\n",
    "import math"
   ]
  },
  {
   "cell_type": "code",
   "execution_count": 36,
   "metadata": {
    "collapsed": true
   },
   "outputs": [],
   "source": [
    "def wineprice(rating, age):\n",
    "    peak_age = rating - 50\n",
    "    \n",
    "    price = rating / 2\n",
    "    if age > peak_age:\n",
    "        price =  price * ( 5 - (age - peak_age))\n",
    "    else:\n",
    "        price = price * (5 * ((age + 1) / peak_age))\n",
    "    \n",
    "    if price < 0: price = 0\n",
    "    return price"
   ]
  },
  {
   "cell_type": "code",
   "execution_count": 16,
   "metadata": {
    "collapsed": true
   },
   "outputs": [],
   "source": [
    "def wineset1():\n",
    "    rows = []\n",
    "    for i in range(300):\n",
    "        rating = random() * 50 + 50\n",
    "        age = random() * 50\n",
    "        \n",
    "        price = wineprice(rating, age)\n",
    "        \n",
    "        price *= (random() * 0.4 + 0.8)\n",
    "        \n",
    "        rows.append({'input':(rating, age),\n",
    "                    'result': price})\n",
    "    return rows"
   ]
  },
  {
   "cell_type": "code",
   "execution_count": 37,
   "metadata": {},
   "outputs": [
    {
     "data": {
      "text/plain": [
       "21.111111111111114"
      ]
     },
     "execution_count": 37,
     "metadata": {},
     "output_type": "execute_result"
    }
   ],
   "source": [
    "wineprice(95.0, 3.0)"
   ]
  },
  {
   "cell_type": "code",
   "execution_count": 38,
   "metadata": {},
   "outputs": [
    {
     "data": {
      "text/plain": [
       "{'input': (95.62737420496055, 26.859589635037747),\n",
       " 'result': 155.21749822234756}"
      ]
     },
     "execution_count": 38,
     "metadata": {},
     "output_type": "execute_result"
    }
   ],
   "source": [
    "data = wineset1()\n",
    "data[0]"
   ]
  },
  {
   "cell_type": "markdown",
   "metadata": {},
   "source": [
    "## kNN"
   ]
  },
  {
   "cell_type": "code",
   "execution_count": 21,
   "metadata": {
    "collapsed": true
   },
   "outputs": [],
   "source": [
    "# defining similarity\n",
    "def euclidean(v1, v2):\n",
    "    d = 0.0\n",
    "    for i in range(len(v1)):\n",
    "        d += (v1[i] - v2[i])**2\n",
    "    return math.sqrt(d)"
   ]
  },
  {
   "cell_type": "code",
   "execution_count": 39,
   "metadata": {},
   "outputs": [
    {
     "data": {
      "text/plain": [
       "(95.62737420496055, 26.859589635037747)"
      ]
     },
     "execution_count": 39,
     "metadata": {},
     "output_type": "execute_result"
    }
   ],
   "source": [
    "data[0]['input']"
   ]
  },
  {
   "cell_type": "code",
   "execution_count": 40,
   "metadata": {
    "scrolled": true
   },
   "outputs": [
    {
     "data": {
      "text/plain": [
       "(67.08852560206698, 43.24635166063429)"
      ]
     },
     "execution_count": 40,
     "metadata": {},
     "output_type": "execute_result"
    }
   ],
   "source": [
    "data[1]['input']"
   ]
  },
  {
   "cell_type": "code",
   "execution_count": 41,
   "metadata": {},
   "outputs": [
    {
     "data": {
      "text/plain": [
       "32.90884150592988"
      ]
     },
     "execution_count": 41,
     "metadata": {},
     "output_type": "execute_result"
    }
   ],
   "source": [
    "euclidean(data[0]['input'], data[1]['input'])"
   ]
  },
  {
   "cell_type": "code",
   "execution_count": 23,
   "metadata": {
    "collapsed": true
   },
   "outputs": [],
   "source": [
    "def getdistance(data, vec1):\n",
    "    distancelist = []\n",
    "    for i in range(len(data)):\n",
    "        vec2 = data[i]['input']\n",
    "        distancelist.append((euclidean(vec1, vec2), i))\n",
    "        \n",
    "    distancelist.sort()\n",
    "    return distancelist    "
   ]
  },
  {
   "cell_type": "code",
   "execution_count": 26,
   "metadata": {
    "collapsed": true
   },
   "outputs": [],
   "source": [
    "def knnestimate(data, vec1, k=5):\n",
    "    d_list = getdistance(data, vec1)\n",
    "    avg = 0.0\n",
    "    \n",
    "    for i in range(k):\n",
    "        idx = d_list[i][1]\n",
    "        avg += data[idx]['result']\n",
    "    avg = avg / k\n",
    "    \n",
    "    return avg"
   ]
  },
  {
   "cell_type": "code",
   "execution_count": 53,
   "metadata": {},
   "outputs": [
    {
     "data": {
      "text/plain": [
       "33.907895485000836"
      ]
     },
     "execution_count": 53,
     "metadata": {},
     "output_type": "execute_result"
    }
   ],
   "source": [
    "knnestimate(data, (99.0, 5.0))"
   ]
  },
  {
   "cell_type": "code",
   "execution_count": 43,
   "metadata": {},
   "outputs": [
    {
     "data": {
      "text/plain": [
       "22.579821180562394"
      ]
     },
     "execution_count": 43,
     "metadata": {},
     "output_type": "execute_result"
    }
   ],
   "source": [
    "knnestimate(data, (99.0, 5.0), k=3)"
   ]
  },
  {
   "cell_type": "code",
   "execution_count": 48,
   "metadata": {},
   "outputs": [
    {
     "data": {
      "text/plain": [
       "30.306122448979593"
      ]
     },
     "execution_count": 48,
     "metadata": {},
     "output_type": "execute_result"
    }
   ],
   "source": [
    "wineprice(99.0, 5.0)"
   ]
  },
  {
   "cell_type": "code",
   "execution_count": 51,
   "metadata": {},
   "outputs": [
    {
     "data": {
      "text/plain": [
       "38.2038843007089"
      ]
     },
     "execution_count": 51,
     "metadata": {},
     "output_type": "execute_result"
    }
   ],
   "source": [
    "knnestimate(data, (99.0, 5.0), k=8)"
   ]
  },
  {
   "cell_type": "code",
   "execution_count": 52,
   "metadata": {},
   "outputs": [
    {
     "data": {
      "text/plain": [
       "31.49431995509917"
      ]
     },
     "execution_count": 52,
     "metadata": {},
     "output_type": "execute_result"
    }
   ],
   "source": [
    "knnestimate(data, (99.0, 5.0), k=1)"
   ]
  },
  {
   "cell_type": "code",
   "execution_count": null,
   "metadata": {
    "collapsed": true
   },
   "outputs": [],
   "source": [
    "## looks like k = 3 can get more precise result"
   ]
  },
  {
   "cell_type": "code",
   "execution_count": null,
   "metadata": {
    "collapsed": true
   },
   "outputs": [],
   "source": [
    "## weight"
   ]
  },
  {
   "cell_type": "code",
   "execution_count": 54,
   "metadata": {
    "collapsed": true
   },
   "outputs": [],
   "source": [
    "# solutin 1: inverse function\n",
    "def inverseweight(dist, num=1.0, const=0.1):\n",
    "    return num / (dist + const)"
   ]
  },
  {
   "cell_type": "code",
   "execution_count": 55,
   "metadata": {
    "collapsed": true
   },
   "outputs": [],
   "source": [
    "# solutin 2: subtraction function\n",
    "def substractweight(dist, const=1.0):\n",
    "    if dist > const: \n",
    "        return 0\n",
    "    else:\n",
    "        return const - dist"
   ]
  },
  {
   "cell_type": "code",
   "execution_count": 56,
   "metadata": {
    "collapsed": true
   },
   "outputs": [],
   "source": [
    "# solutin 3: Gaussian function\n",
    "def gaussian(dist, sigma=10.0):\n",
    "    return math.e**(-dist**2 / (2 * sigma**2))"
   ]
  },
  {
   "cell_type": "code",
   "execution_count": 57,
   "metadata": {},
   "outputs": [
    {
     "data": {
      "text/plain": [
       "0.9"
      ]
     },
     "execution_count": 57,
     "metadata": {},
     "output_type": "execute_result"
    }
   ],
   "source": [
    "substractweight(0.1)"
   ]
  },
  {
   "cell_type": "code",
   "execution_count": 58,
   "metadata": {},
   "outputs": [
    {
     "data": {
      "text/plain": [
       "5.0"
      ]
     },
     "execution_count": 58,
     "metadata": {},
     "output_type": "execute_result"
    }
   ],
   "source": [
    "inverseweight(0.1)"
   ]
  },
  {
   "cell_type": "code",
   "execution_count": 59,
   "metadata": {},
   "outputs": [
    {
     "data": {
      "text/plain": [
       "0.9999500012499791"
      ]
     },
     "execution_count": 59,
     "metadata": {},
     "output_type": "execute_result"
    }
   ],
   "source": [
    "gaussian(0.1)"
   ]
  },
  {
   "cell_type": "code",
   "execution_count": 60,
   "metadata": {},
   "outputs": [
    {
     "data": {
      "text/plain": [
       "0.9950124791926823"
      ]
     },
     "execution_count": 60,
     "metadata": {},
     "output_type": "execute_result"
    }
   ],
   "source": [
    "gaussian(1.0)"
   ]
  },
  {
   "cell_type": "code",
   "execution_count": 61,
   "metadata": {},
   "outputs": [
    {
     "data": {
      "text/plain": [
       "0.9090909090909091"
      ]
     },
     "execution_count": 61,
     "metadata": {},
     "output_type": "execute_result"
    }
   ],
   "source": [
    "inverseweight(1)"
   ]
  },
  {
   "cell_type": "code",
   "execution_count": 62,
   "metadata": {},
   "outputs": [
    {
     "data": {
      "text/plain": [
       "0.0"
      ]
     },
     "execution_count": 62,
     "metadata": {},
     "output_type": "execute_result"
    }
   ],
   "source": [
    "substractweight(1)"
   ]
  },
  {
   "cell_type": "code",
   "execution_count": 63,
   "metadata": {
    "collapsed": true
   },
   "outputs": [],
   "source": [
    "def weightedknn(data, vec1, k=5, weightf=gaussian):\n",
    "    d_list = getdistance(data, vec1)\n",
    "    avg = 0.0\n",
    "    totalweight = 0.0\n",
    "    \n",
    "    # weight mean\n",
    "    for i in range(k):\n",
    "        dist = d_list[i][0]\n",
    "        idx = d_list[i][1]\n",
    "        weight = weightf(dist)\n",
    "        avg += weight * data[idx]['result']\n",
    "        totalweight += weight\n",
    "        \n",
    "    avg = avg / totalweight\n",
    "    return avg"
   ]
  },
  {
   "cell_type": "code",
   "execution_count": 64,
   "metadata": {},
   "outputs": [
    {
     "data": {
      "text/plain": [
       "33.71679909916762"
      ]
     },
     "execution_count": 64,
     "metadata": {},
     "output_type": "execute_result"
    }
   ],
   "source": [
    "weightedknn(data, (99.0, 5.0))"
   ]
  },
  {
   "cell_type": "code",
   "execution_count": 65,
   "metadata": {},
   "outputs": [
    {
     "data": {
      "text/plain": [
       "33.907895485000836"
      ]
     },
     "execution_count": 65,
     "metadata": {},
     "output_type": "execute_result"
    }
   ],
   "source": [
    "knnestimate(data, (99.0, 5.0))"
   ]
  },
  {
   "cell_type": "code",
   "execution_count": null,
   "metadata": {
    "collapsed": true
   },
   "outputs": [],
   "source": [
    "## cross-Validation"
   ]
  },
  {
   "cell_type": "code",
   "execution_count": 66,
   "metadata": {
    "collapsed": true
   },
   "outputs": [],
   "source": [
    "def dividedata(data, test=0.05):\n",
    "    trainset = []\n",
    "    testset = []\n",
    "    for row in data:\n",
    "        if random() < test:\n",
    "            testset.append(row)\n",
    "        else:\n",
    "            trainset.append(row)\n",
    "    return trainset, testset"
   ]
  },
  {
   "cell_type": "code",
   "execution_count": 67,
   "metadata": {
    "collapsed": true
   },
   "outputs": [],
   "source": [
    "def testalgorithm(algf, trainset, testset):\n",
    "    error = 0.0\n",
    "    for row in testset:\n",
    "        guess = algf(trainset, row['input'])\n",
    "        error += (row['result'] - guess)**2\n",
    "    return error / len(testset)"
   ]
  },
  {
   "cell_type": "code",
   "execution_count": 68,
   "metadata": {
    "collapsed": true
   },
   "outputs": [],
   "source": [
    "def crossvalidation(algf, data, trials=100, test=0.05):\n",
    "    error =  0.0\n",
    "    for i in range(trials):\n",
    "        trainset, testset = dividedata(data, test)\n",
    "        error += testalgorithm(algf, trainset, testset)\n",
    "    return error / trials"
   ]
  },
  {
   "cell_type": "code",
   "execution_count": 69,
   "metadata": {},
   "outputs": [
    {
     "data": {
      "text/plain": [
       "806.0874155208642"
      ]
     },
     "execution_count": 69,
     "metadata": {},
     "output_type": "execute_result"
    }
   ],
   "source": [
    "crossvalidation(knnestimate, data)"
   ]
  },
  {
   "cell_type": "code",
   "execution_count": 70,
   "metadata": {
    "collapsed": true
   },
   "outputs": [],
   "source": [
    "def knn3(d, v):\n",
    "    return knnestimate(d, v, k=3)"
   ]
  },
  {
   "cell_type": "code",
   "execution_count": 71,
   "metadata": {},
   "outputs": [
    {
     "data": {
      "text/plain": [
       "549.6352403988212"
      ]
     },
     "execution_count": 71,
     "metadata": {},
     "output_type": "execute_result"
    }
   ],
   "source": [
    "crossvalidation(knn3, data)"
   ]
  },
  {
   "cell_type": "code",
   "execution_count": 72,
   "metadata": {
    "collapsed": true
   },
   "outputs": [],
   "source": [
    "def knn1(d, v):\n",
    "    return knnestimate(d, v, k=1)"
   ]
  },
  {
   "cell_type": "code",
   "execution_count": 73,
   "metadata": {},
   "outputs": [
    {
     "data": {
      "text/plain": [
       "625.0295582372154"
      ]
     },
     "execution_count": 73,
     "metadata": {},
     "output_type": "execute_result"
    }
   ],
   "source": [
    "crossvalidation(knn1, data)"
   ]
  },
  {
   "cell_type": "code",
   "execution_count": 74,
   "metadata": {},
   "outputs": [
    {
     "data": {
      "text/plain": [
       "618.7956153408006"
      ]
     },
     "execution_count": 74,
     "metadata": {},
     "output_type": "execute_result"
    }
   ],
   "source": [
    "crossvalidation(knn1, data, 200)"
   ]
  },
  {
   "cell_type": "code",
   "execution_count": 75,
   "metadata": {},
   "outputs": [
    {
     "data": {
      "text/plain": [
       "680.6435420163574"
      ]
     },
     "execution_count": 75,
     "metadata": {},
     "output_type": "execute_result"
    }
   ],
   "source": [
    "crossvalidation(weightedknn, data)"
   ]
  },
  {
   "cell_type": "code",
   "execution_count": 79,
   "metadata": {},
   "outputs": [],
   "source": [
    "def knninverse(d, v):\n",
    "    return weightedknn(d, v, weightf=inverseweight)"
   ]
  },
  {
   "cell_type": "code",
   "execution_count": 81,
   "metadata": {},
   "outputs": [
    {
     "data": {
      "text/plain": [
       "494.5944457656564"
      ]
     },
     "execution_count": 81,
     "metadata": {},
     "output_type": "execute_result"
    }
   ],
   "source": [
    "crossvalidation(knninverse, data)"
   ]
  },
  {
   "cell_type": "code",
   "execution_count": 82,
   "metadata": {
    "collapsed": true
   },
   "outputs": [],
   "source": [
    "def knnsub(d, v):\n",
    "    return weightedknn(d, v, weightf=substractweight)"
   ]
  },
  {
   "cell_type": "code",
   "execution_count": 83,
   "metadata": {},
   "outputs": [
    {
     "data": {
      "text/plain": [
       "653.1664990127227"
      ]
     },
     "execution_count": 83,
     "metadata": {},
     "output_type": "execute_result"
    }
   ],
   "source": [
    "crossvalidation(knnestimate, data)"
   ]
  },
  {
   "cell_type": "code",
   "execution_count": null,
   "metadata": {
    "collapsed": true
   },
   "outputs": [],
   "source": [
    "## adding more vairance"
   ]
  },
  {
   "cell_type": "code",
   "execution_count": 87,
   "metadata": {
    "collapsed": true
   },
   "outputs": [],
   "source": [
    "def wineset2():\n",
    "    rows = []\n",
    "    for i in range(300):\n",
    "        rating = random() * 50 + 50\n",
    "        age = random() * 50\n",
    "        aisle = float(randint(1, 20))\n",
    "        bottlesize = [375.0, 750.0, 1500.0, 3000.0][randint(0, 3)]\n",
    "        price = wineprice(rating, age)\n",
    "        price *= (bottlesize / 750)\n",
    "        price *= (random() * 0.9 + 0.2)\n",
    "        rows.append({'input':(rating, age, aisle, bottlesize),\n",
    "                    'result': price})\n",
    "    return rows"
   ]
  },
  {
   "cell_type": "code",
   "execution_count": 85,
   "metadata": {},
   "outputs": [
    {
     "data": {
      "text/plain": [
       "504.4689240967431"
      ]
     },
     "execution_count": 85,
     "metadata": {},
     "output_type": "execute_result"
    }
   ],
   "source": [
    "crossvalidation(knn3, data)  # original data"
   ]
  },
  {
   "cell_type": "code",
   "execution_count": 88,
   "metadata": {},
   "outputs": [
    {
     "data": {
      "text/plain": [
       "5802.048852018131"
      ]
     },
     "execution_count": 88,
     "metadata": {},
     "output_type": "execute_result"
    }
   ],
   "source": [
    "data1 = wineset2()\n",
    "crossvalidation(knn3, data1)"
   ]
  },
  {
   "cell_type": "code",
   "execution_count": null,
   "metadata": {
    "collapsed": true
   },
   "outputs": [],
   "source": [
    "## upper two rows show data obvious difference, \n",
    "\n",
    "## this requires scaling dimensions"
   ]
  },
  {
   "cell_type": "code",
   "execution_count": 89,
   "metadata": {
    "collapsed": true
   },
   "outputs": [],
   "source": [
    "def rescale(data, scale):\n",
    "    scaledata = []\n",
    "    for row in data:\n",
    "        scaled = [scale[i] * row['input'][i] for i in range(len(scale))]\n",
    "        scaledata.append({'input': scaled, 'result': row['result']})\n",
    "    return scaledata"
   ]
  },
  {
   "cell_type": "code",
   "execution_count": 91,
   "metadata": {},
   "outputs": [
    {
     "data": {
      "text/plain": [
       "3761.8059113609506"
      ]
     },
     "execution_count": 91,
     "metadata": {},
     "output_type": "execute_result"
    }
   ],
   "source": [
    "sdata = rescale(data1, [10, 10, 0, 0.5]) # low importance feature change to 0\n",
    "crossvalidation(knn3, sdata)"
   ]
  },
  {
   "cell_type": "code",
   "execution_count": 97,
   "metadata": {},
   "outputs": [
    {
     "data": {
      "text/plain": [
       "4214.900814051316"
      ]
     },
     "execution_count": 97,
     "metadata": {},
     "output_type": "execute_result"
    }
   ],
   "source": [
    "sdata = rescale(data1, [10, 10, 0.1, 0.5])\n",
    "crossvalidation(knn3, sdata)"
   ]
  },
  {
   "cell_type": "code",
   "execution_count": 94,
   "metadata": {},
   "outputs": [
    {
     "data": {
      "text/plain": [
       "4309.0148176606735"
      ]
     },
     "execution_count": 94,
     "metadata": {},
     "output_type": "execute_result"
    }
   ],
   "source": [
    "crossvalidation(weightedknn, sdata)"
   ]
  },
  {
   "cell_type": "code",
   "execution_count": 98,
   "metadata": {
    "collapsed": true
   },
   "outputs": [],
   "source": [
    "def createcostfunction(algf, data):\n",
    "    def costf(scale):\n",
    "        sdata = rescale(data, scale)\n",
    "        return crossvalidation(algf, sdata, trials=100)\n",
    "    return costf"
   ]
  },
  {
   "cell_type": "code",
   "execution_count": 99,
   "metadata": {
    "collapsed": true
   },
   "outputs": [],
   "source": [
    "weightdomain = [(0, 20)] * 4"
   ]
  },
  {
   "cell_type": "code",
   "execution_count": 114,
   "metadata": {},
   "outputs": [],
   "source": [
    "# chapter 5 function\n",
    "from random import randint, random\n",
    "\n",
    "def annealingoptimize(domain, costf, T=10000.0, cool=0.95, step=1):\n",
    "    # Initialize the values randomly\n",
    "    vec=[float(randint(domain[i][0], domain[i][1])) \n",
    "         for i in range(len(domain))]\n",
    "  \n",
    "    while T > 0.1:\n",
    "        # Choose one of the indices\n",
    "        i = randint(0, len(domain) - 1)\n",
    "\n",
    "        # Choose a direction to change it\n",
    "        dir = randint(-step, step)\n",
    "\n",
    "        # Create a new list with one of the values changed\n",
    "        vecb=vec[:]\n",
    "        vecb[i] += dir\n",
    "        if vecb[i] < domain[i][0]: vecb[i] = domain[i][0]\n",
    "        elif vecb[i] > domain[i][1]: vecb[i] = domain[i][1]\n",
    "\n",
    "        # Calculate the current cost and the new cost\n",
    "        ea = costf(vec)\n",
    "        eb = costf(vecb)\n",
    "        p = pow(math.e,(-eb-ea)/T)\n",
    "\n",
    "        print(vec, ea)\n",
    "\n",
    "\n",
    "        # Is it better, or does it make the probability\n",
    "        # cutoff?\n",
    "        if (eb < ea or random() < p):\n",
    "            vec = vecb      \n",
    "\n",
    "        # Decrease the temperature\n",
    "        T = T * cool\n",
    "        \n",
    "    return vec"
   ]
  },
  {
   "cell_type": "code",
   "execution_count": 115,
   "metadata": {},
   "outputs": [
    {
     "name": "stdout",
     "output_type": "stream",
     "text": [
      "[3.0, 14.0, 17.0, 19.0] 7839.166429084635\n",
      "[3.0, 14.0, 17.0, 20] 7506.516784913639\n",
      "[3.0, 14.0, 17.0, 20] 6564.009283676085\n",
      "[3.0, 14.0, 17.0, 20] 7952.9973850324195\n",
      "[4.0, 14.0, 17.0, 20] 7616.89680859468\n",
      "[4.0, 13.0, 17.0, 20] 6434.7747143332135\n",
      "[4.0, 13.0, 17.0, 20] 6903.908784726788\n",
      "[4.0, 13.0, 17.0, 20] 7281.294180944555\n",
      "[4.0, 13.0, 17.0, 19] 7992.421442771031\n",
      "[4.0, 13.0, 17.0, 17] 6897.691968132815\n",
      "[4.0, 13.0, 17.0, 17] 6830.4273842199145\n",
      "[4.0, 15.0, 17.0, 17] 7053.701523971539\n",
      "[4.0, 15.0, 17.0, 17] 6865.169620309864\n",
      "[5.0, 15.0, 17.0, 17] 5061.309822152715\n",
      "[5.0, 15.0, 17.0, 17] 6492.573646221527\n",
      "[5.0, 15.0, 17.0, 17] 4976.8703720057665\n",
      "[5.0, 15.0, 17.0, 17] 5539.661899832536\n",
      "[5.0, 15.0, 17.0, 17] 6268.404872853651\n",
      "[5.0, 14.0, 17.0, 17] 5253.7483113277\n",
      "[5.0, 14.0, 17.0, 17] 6371.140651057122\n",
      "[5.0, 14.0, 16.0, 17] 6073.707867349158\n",
      "[5.0, 14.0, 16.0, 18] 5328.492927100805\n",
      "[5.0, 14.0, 16.0, 18] 5358.713709285417\n",
      "[5.0, 14.0, 16.0, 18] 5953.055642869817\n",
      "[5.0, 14.0, 16.0, 18] 6786.090792233447\n",
      "[5.0, 16.0, 16.0, 18] 6578.7169956797015\n",
      "[5.0, 16.0, 16.0, 18] 6328.211438210297\n",
      "[5.0, 16.0, 16.0, 19] 5852.92753796238\n",
      "[5.0, 16.0, 16.0, 19] 6904.32610489491\n",
      "[4.0, 16.0, 16.0, 19] 6923.9243317429155\n",
      "[4.0, 16.0, 17.0, 19] 6625.1010166762835\n",
      "[4.0, 16.0, 17.0, 19] 6879.255382464804\n",
      "[4.0, 16.0, 17.0, 20] 6804.342732683431\n",
      "[4.0, 15.0, 17.0, 20] 6694.1997121657405\n",
      "[4.0, 15.0, 17.0, 20] 6737.134502671105\n",
      "[4.0, 15.0, 17.0, 20] 6500.0737211732285\n",
      "[6.0, 15.0, 17.0, 20] 4890.933279737072\n",
      "[6.0, 15.0, 17.0, 20] 6171.279496885738\n",
      "[6.0, 15.0, 17.0, 20] 5822.211281535265\n",
      "[6.0, 15.0, 17.0, 20] 5582.80649566953\n",
      "[6.0, 15.0, 17.0, 20] 6048.508090466555\n",
      "[6.0, 13.0, 17.0, 20] 6051.482083608214\n",
      "[6.0, 13.0, 17.0, 20] 4628.52668341404\n",
      "[6.0, 13.0, 17.0, 20] 4363.093400975688\n",
      "[6.0, 13.0, 17.0, 20] 5104.314105944954\n",
      "[6.0, 13.0, 18.0, 20] 5421.844796654115\n",
      "[6.0, 13.0, 18.0, 20] 4185.692948789829\n",
      "[6.0, 13.0, 18.0, 20] 5859.143697088997\n",
      "[6.0, 13.0, 18.0, 20] 5035.204680733899\n",
      "[6.0, 13.0, 18.0, 20] 6072.210073447897\n",
      "[6.0, 13.0, 16.0, 20] 5597.3237877922365\n",
      "[6.0, 15.0, 16.0, 20] 6328.435263854501\n",
      "[6.0, 15.0, 16.0, 18] 5532.4630815937135\n",
      "[6.0, 15.0, 16.0, 18] 5230.571287209381\n",
      "[6.0, 15.0, 16.0, 18] 5804.874594179592\n",
      "[6.0, 15.0, 16.0, 18] 5284.494377119802\n",
      "[6.0, 15.0, 14.0, 18] 4381.443073959699\n",
      "[6.0, 15.0, 14.0, 18] 4715.433478390571\n",
      "[6.0, 15.0, 12.0, 18] 4765.781309050987\n",
      "[6.0, 14.0, 12.0, 18] 4675.291131163321\n",
      "[6.0, 14.0, 12.0, 18] 4229.756700873924\n",
      "[6.0, 14.0, 12.0, 18] 4705.637119772256\n",
      "[6.0, 14.0, 12.0, 18] 4440.786463538483\n",
      "[6.0, 14.0, 12.0, 18] 4163.134485504489\n",
      "[6.0, 14.0, 12.0, 18] 4018.1135530921483\n",
      "[6.0, 14.0, 12.0, 18] 4525.407728736228\n",
      "[6.0, 14.0, 12.0, 18] 5203.07769871921\n",
      "[6.0, 14.0, 12.0, 17] 5817.750462641255\n",
      "[7.0, 14.0, 12.0, 17] 4986.545544921539\n",
      "[6.0, 14.0, 12.0, 17] 4973.29913385296\n",
      "[6.0, 14.0, 12.0, 19] 5085.013122110336\n",
      "[6.0, 15.0, 12.0, 19] 5975.767476674925\n",
      "[6.0, 16.0, 12.0, 19] 5393.275078298449\n",
      "[6.0, 16.0, 12.0, 19] 4852.185073220324\n",
      "[6.0, 16.0, 12.0, 19] 5748.034330249572\n",
      "[6.0, 16.0, 12.0, 20] 5519.372461279118\n",
      "[4.0, 16.0, 12.0, 20] 5883.482415546738\n",
      "[4.0, 16.0, 12.0, 19] 6559.794915676137\n",
      "[4.0, 16.0, 12.0, 19] 5866.6113263988755\n",
      "[3.0, 16.0, 12.0, 19] 6223.740911091793\n",
      "[5.0, 16.0, 12.0, 19] 5186.51056443244\n",
      "[5.0, 16.0, 12.0, 19] 5824.150370466807\n",
      "[6.0, 16.0, 12.0, 19] 5330.846264515941\n",
      "[6.0, 16.0, 12.0, 20] 4781.927902852817\n",
      "[6.0, 16.0, 12.0, 20] 4380.152316340134\n",
      "[6.0, 16.0, 12.0, 20] 5827.525775012365\n",
      "[6.0, 16.0, 12.0, 20] 4778.681358992325\n",
      "[6.0, 16.0, 12.0, 20] 5460.692635957059\n",
      "[5.0, 16.0, 12.0, 20] 5691.14874358637\n",
      "[5.0, 16.0, 12.0, 20] 5139.863252721891\n",
      "[5.0, 16.0, 12.0, 20] 4850.708750359415\n",
      "[5.0, 16.0, 12.0, 20] 4948.812613746412\n",
      "[5.0, 16.0, 12.0, 20] 4932.945270396788\n",
      "[5.0, 16.0, 12.0, 20] 5028.80458716831\n",
      "[5.0, 16.0, 12.0, 20] 5012.439911632827\n",
      "[5.0, 16.0, 12.0, 20] 5509.764564843843\n",
      "[5.0, 16.0, 12.0, 20] 5537.989399250792\n",
      "[5.0, 16.0, 11.0, 20] 5249.9896613880655\n",
      "[5.0, 16.0, 11.0, 20] 5696.980196303454\n",
      "[5.0, 16.0, 9.0, 20] 5329.516590056264\n",
      "[5.0, 16.0, 9.0, 20] 5444.060445044841\n",
      "[5.0, 16.0, 9.0, 20] 4782.862042447037\n",
      "[5.0, 16.0, 9.0, 20] 5983.414380480568\n",
      "[5.0, 16.0, 9.0, 20] 5251.329738538189\n",
      "[5.0, 16.0, 9.0, 20] 5960.523840288002\n",
      "[5.0, 16.0, 9.0, 20] 4972.80242817427\n",
      "[5.0, 16.0, 9.0, 20] 4458.025003029904\n",
      "[5.0, 16.0, 9.0, 20] 6087.093466441248\n",
      "[5.0, 16.0, 9.0, 20] 5303.519418014276\n",
      "[5.0, 16.0, 9.0, 20] 4776.679883627979\n",
      "[5.0, 16.0, 9.0, 20] 5571.913433543071\n",
      "[5.0, 16.0, 11.0, 20] 4727.549971381754\n",
      "[5.0, 16.0, 11.0, 18] 5851.229511994086\n"
     ]
    },
    {
     "ename": "KeyboardInterrupt",
     "evalue": "",
     "output_type": "error",
     "traceback": [
      "\u001b[0;31m---------------------------------------\u001b[0m",
      "\u001b[0;31mKeyboardInterrupt\u001b[0mTraceback (most recent call last)",
      "\u001b[0;32m<ipython-input-115-301667fc42f6>\u001b[0m in \u001b[0;36m<module>\u001b[0;34m()\u001b[0m\n\u001b[1;32m      1\u001b[0m \u001b[0mcostf\u001b[0m \u001b[0;34m=\u001b[0m \u001b[0mcreatecostfunction\u001b[0m\u001b[0;34m(\u001b[0m\u001b[0mknnestimate\u001b[0m\u001b[0;34m,\u001b[0m \u001b[0mdata1\u001b[0m\u001b[0;34m)\u001b[0m\u001b[0;34m\u001b[0m\u001b[0m\n\u001b[0;32m----> 2\u001b[0;31m \u001b[0mannealingoptimize\u001b[0m\u001b[0;34m(\u001b[0m\u001b[0mweightdomain\u001b[0m\u001b[0;34m,\u001b[0m \u001b[0mcostf\u001b[0m\u001b[0;34m,\u001b[0m \u001b[0mstep\u001b[0m\u001b[0;34m=\u001b[0m\u001b[0;36m2\u001b[0m\u001b[0;34m)\u001b[0m\u001b[0;34m\u001b[0m\u001b[0m\n\u001b[0m",
      "\u001b[0;32m<ipython-input-114-8380c14a4074>\u001b[0m in \u001b[0;36mannealingoptimize\u001b[0;34m(domain, costf, T, cool, step)\u001b[0m\n\u001b[1;32m     21\u001b[0m \u001b[0;34m\u001b[0m\u001b[0m\n\u001b[1;32m     22\u001b[0m         \u001b[0;31m# Calculate the current cost and the new cost\u001b[0m\u001b[0;34m\u001b[0m\u001b[0;34m\u001b[0m\u001b[0m\n\u001b[0;32m---> 23\u001b[0;31m         \u001b[0mea\u001b[0m \u001b[0;34m=\u001b[0m \u001b[0mcostf\u001b[0m\u001b[0;34m(\u001b[0m\u001b[0mvec\u001b[0m\u001b[0;34m)\u001b[0m\u001b[0;34m\u001b[0m\u001b[0m\n\u001b[0m\u001b[1;32m     24\u001b[0m         \u001b[0meb\u001b[0m \u001b[0;34m=\u001b[0m \u001b[0mcostf\u001b[0m\u001b[0;34m(\u001b[0m\u001b[0mvecb\u001b[0m\u001b[0;34m)\u001b[0m\u001b[0;34m\u001b[0m\u001b[0m\n\u001b[1;32m     25\u001b[0m         \u001b[0mp\u001b[0m \u001b[0;34m=\u001b[0m \u001b[0mpow\u001b[0m\u001b[0;34m(\u001b[0m\u001b[0mmath\u001b[0m\u001b[0;34m.\u001b[0m\u001b[0me\u001b[0m\u001b[0;34m,\u001b[0m\u001b[0;34m(\u001b[0m\u001b[0;34m-\u001b[0m\u001b[0meb\u001b[0m\u001b[0;34m-\u001b[0m\u001b[0mea\u001b[0m\u001b[0;34m)\u001b[0m\u001b[0;34m/\u001b[0m\u001b[0mT\u001b[0m\u001b[0;34m)\u001b[0m\u001b[0;34m\u001b[0m\u001b[0m\n",
      "\u001b[0;32m<ipython-input-98-d534ddb0514b>\u001b[0m in \u001b[0;36mcostf\u001b[0;34m(scale)\u001b[0m\n\u001b[1;32m      2\u001b[0m     \u001b[0;32mdef\u001b[0m \u001b[0mcostf\u001b[0m\u001b[0;34m(\u001b[0m\u001b[0mscale\u001b[0m\u001b[0;34m)\u001b[0m\u001b[0;34m:\u001b[0m\u001b[0;34m\u001b[0m\u001b[0m\n\u001b[1;32m      3\u001b[0m         \u001b[0msdata\u001b[0m \u001b[0;34m=\u001b[0m \u001b[0mrescale\u001b[0m\u001b[0;34m(\u001b[0m\u001b[0mdata\u001b[0m\u001b[0;34m,\u001b[0m \u001b[0mscale\u001b[0m\u001b[0;34m)\u001b[0m\u001b[0;34m\u001b[0m\u001b[0m\n\u001b[0;32m----> 4\u001b[0;31m         \u001b[0;32mreturn\u001b[0m \u001b[0mcrossvalidation\u001b[0m\u001b[0;34m(\u001b[0m\u001b[0malgf\u001b[0m\u001b[0;34m,\u001b[0m \u001b[0msdata\u001b[0m\u001b[0;34m,\u001b[0m \u001b[0mtrials\u001b[0m\u001b[0;34m=\u001b[0m\u001b[0;36m100\u001b[0m\u001b[0;34m)\u001b[0m\u001b[0;34m\u001b[0m\u001b[0m\n\u001b[0m\u001b[1;32m      5\u001b[0m     \u001b[0;32mreturn\u001b[0m \u001b[0mcostf\u001b[0m\u001b[0;34m\u001b[0m\u001b[0m\n",
      "\u001b[0;32m<ipython-input-68-39922b7e1b7d>\u001b[0m in \u001b[0;36mcrossvalidation\u001b[0;34m(algf, data, trials, test)\u001b[0m\n\u001b[1;32m      3\u001b[0m     \u001b[0;32mfor\u001b[0m \u001b[0mi\u001b[0m \u001b[0;32min\u001b[0m \u001b[0mrange\u001b[0m\u001b[0;34m(\u001b[0m\u001b[0mtrials\u001b[0m\u001b[0;34m)\u001b[0m\u001b[0;34m:\u001b[0m\u001b[0;34m\u001b[0m\u001b[0m\n\u001b[1;32m      4\u001b[0m         \u001b[0mtrainset\u001b[0m\u001b[0;34m,\u001b[0m \u001b[0mtestset\u001b[0m \u001b[0;34m=\u001b[0m \u001b[0mdividedata\u001b[0m\u001b[0;34m(\u001b[0m\u001b[0mdata\u001b[0m\u001b[0;34m,\u001b[0m \u001b[0mtest\u001b[0m\u001b[0;34m)\u001b[0m\u001b[0;34m\u001b[0m\u001b[0m\n\u001b[0;32m----> 5\u001b[0;31m         \u001b[0merror\u001b[0m \u001b[0;34m+=\u001b[0m \u001b[0mtestalgorithm\u001b[0m\u001b[0;34m(\u001b[0m\u001b[0malgf\u001b[0m\u001b[0;34m,\u001b[0m \u001b[0mtrainset\u001b[0m\u001b[0;34m,\u001b[0m \u001b[0mtestset\u001b[0m\u001b[0;34m)\u001b[0m\u001b[0;34m\u001b[0m\u001b[0m\n\u001b[0m\u001b[1;32m      6\u001b[0m     \u001b[0;32mreturn\u001b[0m \u001b[0merror\u001b[0m \u001b[0;34m/\u001b[0m \u001b[0mtrials\u001b[0m\u001b[0;34m\u001b[0m\u001b[0m\n",
      "\u001b[0;32m<ipython-input-67-ec8adb8ba412>\u001b[0m in \u001b[0;36mtestalgorithm\u001b[0;34m(algf, trainset, testset)\u001b[0m\n\u001b[1;32m      2\u001b[0m     \u001b[0merror\u001b[0m \u001b[0;34m=\u001b[0m \u001b[0;36m0.0\u001b[0m\u001b[0;34m\u001b[0m\u001b[0m\n\u001b[1;32m      3\u001b[0m     \u001b[0;32mfor\u001b[0m \u001b[0mrow\u001b[0m \u001b[0;32min\u001b[0m \u001b[0mtestset\u001b[0m\u001b[0;34m:\u001b[0m\u001b[0;34m\u001b[0m\u001b[0m\n\u001b[0;32m----> 4\u001b[0;31m         \u001b[0mguess\u001b[0m \u001b[0;34m=\u001b[0m \u001b[0malgf\u001b[0m\u001b[0;34m(\u001b[0m\u001b[0mtrainset\u001b[0m\u001b[0;34m,\u001b[0m \u001b[0mrow\u001b[0m\u001b[0;34m[\u001b[0m\u001b[0;34m'input'\u001b[0m\u001b[0;34m]\u001b[0m\u001b[0;34m)\u001b[0m\u001b[0;34m\u001b[0m\u001b[0m\n\u001b[0m\u001b[1;32m      5\u001b[0m         \u001b[0merror\u001b[0m \u001b[0;34m+=\u001b[0m \u001b[0;34m(\u001b[0m\u001b[0mrow\u001b[0m\u001b[0;34m[\u001b[0m\u001b[0;34m'result'\u001b[0m\u001b[0;34m]\u001b[0m \u001b[0;34m-\u001b[0m \u001b[0mguess\u001b[0m\u001b[0;34m)\u001b[0m\u001b[0;34m**\u001b[0m\u001b[0;36m2\u001b[0m\u001b[0;34m\u001b[0m\u001b[0m\n\u001b[1;32m      6\u001b[0m     \u001b[0;32mreturn\u001b[0m \u001b[0merror\u001b[0m \u001b[0;34m/\u001b[0m \u001b[0mlen\u001b[0m\u001b[0;34m(\u001b[0m\u001b[0mtestset\u001b[0m\u001b[0;34m)\u001b[0m\u001b[0;34m\u001b[0m\u001b[0m\n",
      "\u001b[0;32m<ipython-input-26-e288c369763f>\u001b[0m in \u001b[0;36mknnestimate\u001b[0;34m(data, vec1, k)\u001b[0m\n\u001b[1;32m      1\u001b[0m \u001b[0;32mdef\u001b[0m \u001b[0mknnestimate\u001b[0m\u001b[0;34m(\u001b[0m\u001b[0mdata\u001b[0m\u001b[0;34m,\u001b[0m \u001b[0mvec1\u001b[0m\u001b[0;34m,\u001b[0m \u001b[0mk\u001b[0m\u001b[0;34m=\u001b[0m\u001b[0;36m5\u001b[0m\u001b[0;34m)\u001b[0m\u001b[0;34m:\u001b[0m\u001b[0;34m\u001b[0m\u001b[0m\n\u001b[0;32m----> 2\u001b[0;31m     \u001b[0md_list\u001b[0m \u001b[0;34m=\u001b[0m \u001b[0mgetdistance\u001b[0m\u001b[0;34m(\u001b[0m\u001b[0mdata\u001b[0m\u001b[0;34m,\u001b[0m \u001b[0mvec1\u001b[0m\u001b[0;34m)\u001b[0m\u001b[0;34m\u001b[0m\u001b[0m\n\u001b[0m\u001b[1;32m      3\u001b[0m     \u001b[0mavg\u001b[0m \u001b[0;34m=\u001b[0m \u001b[0;36m0.0\u001b[0m\u001b[0;34m\u001b[0m\u001b[0m\n\u001b[1;32m      4\u001b[0m \u001b[0;34m\u001b[0m\u001b[0m\n\u001b[1;32m      5\u001b[0m     \u001b[0;32mfor\u001b[0m \u001b[0mi\u001b[0m \u001b[0;32min\u001b[0m \u001b[0mrange\u001b[0m\u001b[0;34m(\u001b[0m\u001b[0mk\u001b[0m\u001b[0;34m)\u001b[0m\u001b[0;34m:\u001b[0m\u001b[0;34m\u001b[0m\u001b[0m\n",
      "\u001b[0;32m<ipython-input-23-129981e68bd1>\u001b[0m in \u001b[0;36mgetdistance\u001b[0;34m(data, vec1)\u001b[0m\n\u001b[1;32m      3\u001b[0m     \u001b[0;32mfor\u001b[0m \u001b[0mi\u001b[0m \u001b[0;32min\u001b[0m \u001b[0mrange\u001b[0m\u001b[0;34m(\u001b[0m\u001b[0mlen\u001b[0m\u001b[0;34m(\u001b[0m\u001b[0mdata\u001b[0m\u001b[0;34m)\u001b[0m\u001b[0;34m)\u001b[0m\u001b[0;34m:\u001b[0m\u001b[0;34m\u001b[0m\u001b[0m\n\u001b[1;32m      4\u001b[0m         \u001b[0mvec2\u001b[0m \u001b[0;34m=\u001b[0m \u001b[0mdata\u001b[0m\u001b[0;34m[\u001b[0m\u001b[0mi\u001b[0m\u001b[0;34m]\u001b[0m\u001b[0;34m[\u001b[0m\u001b[0;34m'input'\u001b[0m\u001b[0;34m]\u001b[0m\u001b[0;34m\u001b[0m\u001b[0m\n\u001b[0;32m----> 5\u001b[0;31m         \u001b[0mdistancelist\u001b[0m\u001b[0;34m.\u001b[0m\u001b[0mappend\u001b[0m\u001b[0;34m(\u001b[0m\u001b[0;34m(\u001b[0m\u001b[0meuclidean\u001b[0m\u001b[0;34m(\u001b[0m\u001b[0mvec1\u001b[0m\u001b[0;34m,\u001b[0m \u001b[0mvec2\u001b[0m\u001b[0;34m)\u001b[0m\u001b[0;34m,\u001b[0m \u001b[0mi\u001b[0m\u001b[0;34m)\u001b[0m\u001b[0;34m)\u001b[0m\u001b[0;34m\u001b[0m\u001b[0m\n\u001b[0m\u001b[1;32m      6\u001b[0m \u001b[0;34m\u001b[0m\u001b[0m\n\u001b[1;32m      7\u001b[0m     \u001b[0mdistancelist\u001b[0m\u001b[0;34m.\u001b[0m\u001b[0msort\u001b[0m\u001b[0;34m(\u001b[0m\u001b[0;34m)\u001b[0m\u001b[0;34m\u001b[0m\u001b[0m\n",
      "\u001b[0;32m<ipython-input-21-5c134ef330f9>\u001b[0m in \u001b[0;36meuclidean\u001b[0;34m(v1, v2)\u001b[0m\n\u001b[1;32m      3\u001b[0m     \u001b[0md\u001b[0m \u001b[0;34m=\u001b[0m \u001b[0;36m0.0\u001b[0m\u001b[0;34m\u001b[0m\u001b[0m\n\u001b[1;32m      4\u001b[0m     \u001b[0;32mfor\u001b[0m \u001b[0mi\u001b[0m \u001b[0;32min\u001b[0m \u001b[0mrange\u001b[0m\u001b[0;34m(\u001b[0m\u001b[0mlen\u001b[0m\u001b[0;34m(\u001b[0m\u001b[0mv1\u001b[0m\u001b[0;34m)\u001b[0m\u001b[0;34m)\u001b[0m\u001b[0;34m:\u001b[0m\u001b[0;34m\u001b[0m\u001b[0m\n\u001b[0;32m----> 5\u001b[0;31m         \u001b[0md\u001b[0m \u001b[0;34m+=\u001b[0m \u001b[0;34m(\u001b[0m\u001b[0mv1\u001b[0m\u001b[0;34m[\u001b[0m\u001b[0mi\u001b[0m\u001b[0;34m]\u001b[0m \u001b[0;34m-\u001b[0m \u001b[0mv2\u001b[0m\u001b[0;34m[\u001b[0m\u001b[0mi\u001b[0m\u001b[0;34m]\u001b[0m\u001b[0;34m)\u001b[0m\u001b[0;34m**\u001b[0m\u001b[0;36m2\u001b[0m\u001b[0;34m\u001b[0m\u001b[0m\n\u001b[0m\u001b[1;32m      6\u001b[0m     \u001b[0;32mreturn\u001b[0m \u001b[0mmath\u001b[0m\u001b[0;34m.\u001b[0m\u001b[0msqrt\u001b[0m\u001b[0;34m(\u001b[0m\u001b[0md\u001b[0m\u001b[0;34m)\u001b[0m\u001b[0;34m\u001b[0m\u001b[0m\n",
      "\u001b[0;31mKeyboardInterrupt\u001b[0m: "
     ]
    }
   ],
   "source": [
    "costf = createcostfunction(knnestimate, data1)\n",
    "annealingoptimize(weightdomain, costf, step=2)"
   ]
  },
  {
   "cell_type": "code",
   "execution_count": null,
   "metadata": {
    "collapsed": true
   },
   "outputs": [],
   "source": []
  },
  {
   "cell_type": "code",
   "execution_count": null,
   "metadata": {
    "collapsed": true
   },
   "outputs": [],
   "source": [
    "## use geneticoptimize "
   ]
  },
  {
   "cell_type": "code",
   "execution_count": null,
   "metadata": {
    "collapsed": true
   },
   "outputs": [],
   "source": []
  },
  {
   "cell_type": "code",
   "execution_count": 117,
   "metadata": {},
   "outputs": [],
   "source": [
    "## new data set \n",
    "\n",
    "def wineset3():\n",
    "    rows = wineset1()\n",
    "    for row in rows:\n",
    "        if random() < 0.5:\n",
    "            row['result'] *= 0.5 # sometime have 50% discount\n",
    "    return rows"
   ]
  },
  {
   "cell_type": "code",
   "execution_count": 118,
   "metadata": {},
   "outputs": [
    {
     "data": {
      "text/plain": [
       "106.07142857142857"
      ]
     },
     "execution_count": 118,
     "metadata": {},
     "output_type": "execute_result"
    }
   ],
   "source": [
    "data3 = wineset3()\n",
    "wineprice(99.0, 20.0)"
   ]
  },
  {
   "cell_type": "code",
   "execution_count": 119,
   "metadata": {},
   "outputs": [
    {
     "data": {
      "text/plain": [
       "68.79264339979004"
      ]
     },
     "execution_count": 119,
     "metadata": {},
     "output_type": "execute_result"
    }
   ],
   "source": [
    "weightedknn(data3, [99.0, 20.0])"
   ]
  },
  {
   "cell_type": "code",
   "execution_count": null,
   "metadata": {
    "collapsed": true
   },
   "outputs": [],
   "source": [
    "## estimating the probability density"
   ]
  },
  {
   "cell_type": "code",
   "execution_count": 120,
   "metadata": {
    "collapsed": true
   },
   "outputs": [],
   "source": [
    "def probguess(data, vec1, low, high, k=5, weightf=gaussian):\n",
    "    d_list = getdistance(data, vec1)\n",
    "    nweight = 0.0\n",
    "    tweight = 0.0\n",
    "    \n",
    "    for i in range(k):\n",
    "        dist = d_list[i][0]\n",
    "        idx = d_list[i][1]\n",
    "        weight = weightf(dist)\n",
    "        v = data[idx]['result']\n",
    "        \n",
    "        if v >= low and v < high:\n",
    "            nweight += weight\n",
    "        tweight += weight\n",
    "    if tweight == 0: return 0\n",
    "    \n",
    "    return nweight / tweight"
   ]
  },
  {
   "cell_type": "code",
   "execution_count": 121,
   "metadata": {},
   "outputs": [
    {
     "data": {
      "text/plain": [
       "0.5991369287537476"
      ]
     },
     "execution_count": 121,
     "metadata": {},
     "output_type": "execute_result"
    }
   ],
   "source": [
    "probguess(data3, [99, 20], 40, 80)"
   ]
  },
  {
   "cell_type": "code",
   "execution_count": 122,
   "metadata": {},
   "outputs": [
    {
     "data": {
      "text/plain": [
       "0.40086307124625237"
      ]
     },
     "execution_count": 122,
     "metadata": {},
     "output_type": "execute_result"
    }
   ],
   "source": [
    "probguess(data3, [99, 20], 80, 120)"
   ]
  },
  {
   "cell_type": "code",
   "execution_count": 123,
   "metadata": {},
   "outputs": [
    {
     "data": {
      "text/plain": [
       "0.0"
      ]
     },
     "execution_count": 123,
     "metadata": {},
     "output_type": "execute_result"
    }
   ],
   "source": [
    "probguess(data3, [99, 20], 120, 1000)"
   ]
  },
  {
   "cell_type": "code",
   "execution_count": 124,
   "metadata": {},
   "outputs": [
    {
     "data": {
      "text/plain": [
       "1.0"
      ]
     },
     "execution_count": 124,
     "metadata": {},
     "output_type": "execute_result"
    }
   ],
   "source": [
    "probguess(data3, [99, 20], 30, 120)"
   ]
  },
  {
   "cell_type": "code",
   "execution_count": 125,
   "metadata": {
    "collapsed": true
   },
   "outputs": [],
   "source": [
    "# Graphing the probabilites\n",
    "from matplotlib.pylab import *\n",
    "%matplotlib inline"
   ]
  },
  {
   "cell_type": "code",
   "execution_count": 126,
   "metadata": {},
   "outputs": [
    {
     "data": {
      "text/plain": [
       "[<matplotlib.lines.Line2D at 0x1064088d0>]"
      ]
     },
     "execution_count": 126,
     "metadata": {},
     "output_type": "execute_result"
    },
    {
     "data": {
      "image/png": "[encoded data removed]",
      "text/plain": [
       "<matplotlib.figure.Figure at 0x106226080>"
      ]
     },
     "metadata": {},
     "output_type": "display_data"
    }
   ],
   "source": [
    "a = array([1, 2, 3, 4])\n",
    "b = array([4, 2, 3, 1])\n",
    "plot(a, b)"
   ]
  },
  {
   "cell_type": "code",
   "execution_count": 127,
   "metadata": {},
   "outputs": [
    {
     "data": {
      "text/plain": [
       "[<matplotlib.lines.Line2D at 0x10672cf60>]"
      ]
     },
     "execution_count": 127,
     "metadata": {},
     "output_type": "execute_result"
    },
    {
     "data": {
      "image/png": "[encoded data removed]",
      "text/plain": [
       "<matplotlib.figure.Figure at 0x106203fd0>"
      ]
     },
     "metadata": {},
     "output_type": "display_data"
    }
   ],
   "source": [
    "t1 = arange(0.0, 10.0, 0.1)\n",
    "plot(t1, sin(t1))"
   ]
  },
  {
   "cell_type": "code",
   "execution_count": 130,
   "metadata": {
    "collapsed": true
   },
   "outputs": [],
   "source": [
    "def cumulativegraph(data, vec1, high, k=5, weightf=gaussian):\n",
    "    t1 = arange(0.0, high, 0.1)\n",
    "    cprob = array([probguess(data, vec1, 0, v, k, weightf) for v in t1])\n",
    "    plot(t1, cprob)"
   ]
  },
  {
   "cell_type": "code",
   "execution_count": 131,
   "metadata": {},
   "outputs": [
    {
     "data": {
      "image/png": "[encoded data removed]",
      "text/plain": [
       "<matplotlib.figure.Figure at 0x1062c6c88>"
      ]
     },
     "metadata": {},
     "output_type": "display_data"
    }
   ],
   "source": [
    "cumulativegraph(data3, (1, 1), 120)"
   ]
  },
  {
   "cell_type": "code",
   "execution_count": 133,
   "metadata": {},
   "outputs": [
    {
     "data": {
      "image/png": "[encoded data removed]",
      "text/plain": [
       "<matplotlib.figure.Figure at 0x106239908>"
      ]
     },
     "metadata": {},
     "output_type": "display_data"
    }
   ],
   "source": [
    "data4 = wineset3()\n",
    "cumulativegraph(data4, (1, 1), 120)"
   ]
  },
  {
   "cell_type": "code",
   "execution_count": 135,
   "metadata": {},
   "outputs": [],
   "source": [
    "# upper out is unstable?\n"
   ]
  },
  {
   "cell_type": "code",
   "execution_count": 136,
   "metadata": {
    "collapsed": true
   },
   "outputs": [],
   "source": [
    "## different point probility\n",
    "## every point = neigbor probility * weight\n",
    "\n",
    "\n",
    "def probilitygraph(data, vec1, high, k=5, weightf=gaussian, ss=5.0):\n",
    "    t1 = arange(0.0, high, 0.1)\n",
    "    \n",
    "    probs = [probguess(data, vec1, v, v+0.1, k, weightf) for v in t1]\n",
    "    \n",
    "    smoothed = []\n",
    "    for i in range(len(probs)):\n",
    "        sv = 0.0\n",
    "        for j in range(0, len(probs)):\n",
    "            dist = abs(i - j) * 0.1\n",
    "            weight = gaussian(dist, sigma=ss)\n",
    "            sv += weight * probs[j]\n",
    "        smoothed.append(sv)\n",
    "    smoothed = array(smoothed)\n",
    "\n",
    "    plot(t1, smoothed)"
   ]
  },
  {
   "cell_type": "code",
   "execution_count": 139,
   "metadata": {},
   "outputs": [
    {
     "data": {
      "image/png": "[encoded data removed]",
      "text/plain": [
       "<matplotlib.figure.Figure at 0x10734fb38>"
      ]
     },
     "metadata": {},
     "output_type": "display_data"
    }
   ],
   "source": [
    "data3 = wineset3()\n",
    "probilitygraph(data3, (1,1), 6)"
   ]
  },
  {
   "cell_type": "code",
   "execution_count": null,
   "metadata": {
    "collapsed": true
   },
   "outputs": [],
   "source": [
    "# this line looks like some error."
   ]
  },
  {
   "cell_type": "code",
   "execution_count": 141,
   "metadata": {},
   "outputs": [
    {
     "data": {
      "image/png": "[encoded data removed]",
      "text/plain": [
       "<matplotlib.figure.Figure at 0x1076f1a20>"
      ]
     },
     "metadata": {},
     "output_type": "display_data"
    }
   ],
   "source": [
    "probilitygraph(data3, (1,1), 100)"
   ]
  },
  {
   "cell_type": "code",
   "execution_count": 142,
   "metadata": {},
   "outputs": [
    {
     "data": {
      "image/png": "[encoded data removed]",
      "text/plain": [
       "<matplotlib.figure.Figure at 0x10760f080>"
      ]
     },
     "metadata": {},
     "output_type": "display_data"
    }
   ],
   "source": [
    "probilitygraph(data3, (1,1), 1000)"
   ]
  },
  {
   "cell_type": "code",
   "execution_count": null,
   "metadata": {
    "collapsed": true
   },
   "outputs": [],
   "source": []
  }
 ],
 "metadata": {
  "kernelspec": {
   "display_name": "Python 3",
   "language": "python",
   "name": "python3"
  },
  "language_info": {
   "codemirror_mode": {
    "name": "ipython",
    "version": 3
   },
   "file_extension": ".py",
   "mimetype": "text/x-python",
   "name": "python",
   "nbconvert_exporter": "python",
   "pygments_lexer": "ipython3",
   "version": "3.5.2"
  }
 },
 "nbformat": 4,
 "nbformat_minor": 2
}
