{
 "cells": [
  {
   "cell_type": "code",
   "execution_count": 44,
   "metadata": {
    "collapsed": false
   },
   "outputs": [],
   "source": [
    "# prepresenting tree in python\n",
    "\n",
    "from random import random, randint, choice\n",
    "from copy import deepcopy\n",
    "from math import log\n",
    "\n",
    "# four class\n",
    "\n",
    "# recieve function_name, paramater_count, function_name\n",
    "# fwrapper(iffunc, 3, 'if')\n",
    "class fwrapper:\n",
    "    def __init__(self, function, childcount, name):\n",
    "        self.function = function\n",
    "        self.childcount = childcount\n",
    "        self.name = name\n",
    "\n",
    "#[node(gtw,[paramnode(0), constnode(3)]),\n",
    "class node:\n",
    "    def __init__(self, fw, children):\n",
    "        self.function = fw.function\n",
    "        self.name = fw.name\n",
    "        self.children = children\n",
    "     \n",
    "    def evaluate(self, inp):\n",
    "        results = [n.evaluate(inp) for n in self.children]\n",
    "        return self.function(results)\n",
    "    \n",
    "    def display(self, indent=0):\n",
    "        print((' ' * indent) + self.name)\n",
    "        for c in self.children:\n",
    "            c.display(indent + 1)\n",
    "\n",
    "class paramnode:\n",
    "    def __init__(self, idx):\n",
    "        self.idx = idx\n",
    "    \n",
    "    def evaluate(self, inp):\n",
    "        return inp[self.idx]\n",
    "    \n",
    "    def display(self, indent=0):\n",
    "        print(('{}p{}').format(' ' * indent, self.idx))\n",
    "\n",
    "class constnode:\n",
    "    def __init__(self, v):\n",
    "        self.v = v\n",
    "        \n",
    "    def evaluate(self, inp):\n",
    "        return self.v\n",
    "    \n",
    "    def display(self, indent=0):\n",
    "        print(('{} {}').format(' ' * indent, self.v))"
   ]
  },
  {
   "cell_type": "code",
   "execution_count": 45,
   "metadata": {
    "collapsed": true
   },
   "outputs": [],
   "source": [
    "addw =  fwrapper(lambda l : l[0] + l[1], 2, 'add')\n",
    "subw =  fwrapper(lambda l : l[0] - l[1], 2, 'substract')\n",
    "mulw =  fwrapper(lambda l : l[0] * l[1], 2, 'multiply')\n",
    "\n",
    "def iffunc(l):\n",
    "    if l[0] > 0 : return l[1]\n",
    "    else: return l[2]\n",
    "ifw = fwrapper(iffunc, 3, 'if')\n",
    "\n",
    "def isgreater(l):\n",
    "    if l[0] > l[1]: return 1\n",
    "    else: return 0\n",
    "gtw = fwrapper(isgreater, 2, 'isgreater')\n",
    "\n",
    "flist = [addw, mulw, ifw, gtw, subw]"
   ]
  },
  {
   "cell_type": "code",
   "execution_count": 46,
   "metadata": {
    "collapsed": true
   },
   "outputs": [],
   "source": [
    "def exampletree():\n",
    "    return node(ifw, [node(gtw,[paramnode(0), constnode(3)]),\n",
    "                      node(addw,[paramnode(1), constnode(5)]),\n",
    "                      node(subw,[paramnode(1), constnode(2)]),\n",
    "                     ])"
   ]
  },
  {
   "cell_type": "code",
   "execution_count": 28,
   "metadata": {
    "collapsed": false,
    "scrolled": true
   },
   "outputs": [
    {
     "data": {
      "text/plain": [
       "8"
      ]
     },
     "execution_count": 28,
     "metadata": {},
     "output_type": "execute_result"
    }
   ],
   "source": [
    "exampletree = exampletree()\n",
    "exampletree.evaluate([5, 3])"
   ]
  },
  {
   "cell_type": "code",
   "execution_count": 29,
   "metadata": {
    "collapsed": false
   },
   "outputs": [
    {
     "data": {
      "text/plain": [
       "1"
      ]
     },
     "execution_count": 29,
     "metadata": {},
     "output_type": "execute_result"
    }
   ],
   "source": [
    "exampletree.evaluate([2, 3])"
   ]
  },
  {
   "cell_type": "code",
   "execution_count": 47,
   "metadata": {
    "collapsed": false
   },
   "outputs": [
    {
     "name": "stdout",
     "output_type": "stream",
     "text": [
      "if\n",
      " isgreater\n",
      "  p0\n",
      "   3\n",
      " add\n",
      "  p1\n",
      "   5\n",
      " substract\n",
      "  p1\n",
      "   2\n"
     ]
    }
   ],
   "source": [
    "exampletree = exampletree()\n",
    "exampletree.display()"
   ]
  },
  {
   "cell_type": "code",
   "execution_count": 49,
   "metadata": {
    "collapsed": false
   },
   "outputs": [],
   "source": [
    "# creating the initial population\n",
    "\n",
    "def makerandomtree(pc, maxdepth=4, fpr=0.5, ppr=0.6):\n",
    "    if random() < fpr and maxdepth > 0:\n",
    "        f = choice(flist)\n",
    "        children = [makerandomtree(pc, maxdepth-1, fpr, ppr)\n",
    "                   for i in range(f.childcount)]\n",
    "        return node(f, children)\n",
    "    elif random() < ppr:\n",
    "        return paramnode(randint(0, pc-1))\n",
    "    else: \n",
    "        return constnode(randint(0, 10))"
   ]
  },
  {
   "cell_type": "code",
   "execution_count": 56,
   "metadata": {
    "collapsed": true
   },
   "outputs": [],
   "source": [
    "random1 = makerandomtree(2)"
   ]
  },
  {
   "cell_type": "code",
   "execution_count": 57,
   "metadata": {
    "collapsed": false
   },
   "outputs": [
    {
     "data": {
      "text/plain": [
       "1"
      ]
     },
     "execution_count": 57,
     "metadata": {},
     "output_type": "execute_result"
    }
   ],
   "source": [
    "random1.evaluate([7, 1])"
   ]
  },
  {
   "cell_type": "code",
   "execution_count": 58,
   "metadata": {
    "collapsed": false
   },
   "outputs": [
    {
     "data": {
      "text/plain": [
       "4"
      ]
     },
     "execution_count": 58,
     "metadata": {},
     "output_type": "execute_result"
    }
   ],
   "source": [
    "random1.evaluate([2, 4])"
   ]
  },
  {
   "cell_type": "code",
   "execution_count": 59,
   "metadata": {
    "collapsed": false
   },
   "outputs": [
    {
     "name": "stdout",
     "output_type": "stream",
     "text": [
      "p1\n"
     ]
    }
   ],
   "source": [
    "random1.display()"
   ]
  },
  {
   "cell_type": "code",
   "execution_count": 63,
   "metadata": {
    "collapsed": false
   },
   "outputs": [
    {
     "name": "stdout",
     "output_type": "stream",
     "text": [
      "substract\n",
      " isgreater\n",
      "   3\n",
      "  add\n",
      "   add\n",
      "     6\n",
      "    p0\n",
      "    3\n",
      " add\n",
      "  p1\n",
      "  isgreater\n",
      "   p1\n",
      "   multiply\n",
      "     9\n",
      "    p1\n"
     ]
    }
   ],
   "source": [
    "random2 = makerandomtree(2)\n",
    "random2.evaluate([5, 3])\n",
    "random2.display()"
   ]
  },
  {
   "cell_type": "code",
   "execution_count": null,
   "metadata": {
    "collapsed": true
   },
   "outputs": [],
   "source": []
  },
  {
   "cell_type": "code",
   "execution_count": 65,
   "metadata": {
    "collapsed": true
   },
   "outputs": [],
   "source": [
    "# \n",
    "def hiddenfunction(x, y):\n",
    "    return x ** 2 + 2 * y + 3 * x + 5"
   ]
  },
  {
   "cell_type": "code",
   "execution_count": 66,
   "metadata": {
    "collapsed": true
   },
   "outputs": [],
   "source": [
    "def buildhiddenset():\n",
    "    rows = []\n",
    "    for i in range(200):\n",
    "        x = randint(0, 40)\n",
    "        y = randint(0, 40)\n",
    "        rows.append([x, y, hiddenfunction(x, y)])\n",
    "    return rows"
   ]
  },
  {
   "cell_type": "code",
   "execution_count": 67,
   "metadata": {
    "collapsed": true
   },
   "outputs": [],
   "source": [
    "hiddenset = buildhiddenset()"
   ]
  },
  {
   "cell_type": "code",
   "execution_count": 68,
   "metadata": {
    "collapsed": true
   },
   "outputs": [],
   "source": [
    "# Measuring success\n",
    "def scorefunction(tree, s):\n",
    "    dif = 0\n",
    "    for data in s:\n",
    "        v = tree.evaluate([data[0], data[1]])\n",
    "        dif += abs(v - data[2])\n",
    "    return dif"
   ]
  },
  {
   "cell_type": "code",
   "execution_count": 69,
   "metadata": {
    "collapsed": false
   },
   "outputs": [
    {
     "data": {
      "text/plain": [
       "134960"
      ]
     },
     "execution_count": 69,
     "metadata": {},
     "output_type": "execute_result"
    }
   ],
   "source": [
    "scorefunction(random2, hiddenset)"
   ]
  },
  {
   "cell_type": "code",
   "execution_count": 70,
   "metadata": {
    "collapsed": false
   },
   "outputs": [
    {
     "data": {
      "text/plain": [
       "126696"
      ]
     },
     "execution_count": 70,
     "metadata": {},
     "output_type": "execute_result"
    }
   ],
   "source": [
    "scorefunction(random1, hiddenset)"
   ]
  },
  {
   "cell_type": "code",
   "execution_count": 71,
   "metadata": {
    "collapsed": true
   },
   "outputs": [],
   "source": [
    "def mutate(t, pc, probchange=0.1):\n",
    "    if random() < probchange:\n",
    "        return makerandomtree(pc)\n",
    "    else:\n",
    "        result = deepcopy(t)\n",
    "        if isinstance(t, node):\n",
    "            result.children = [mutate(c, pc, probchange) for c in t.children]\n",
    "        return result"
   ]
  },
  {
   "cell_type": "code",
   "execution_count": 72,
   "metadata": {
    "collapsed": false
   },
   "outputs": [
    {
     "name": "stdout",
     "output_type": "stream",
     "text": [
      "substract\n",
      " isgreater\n",
      "   3\n",
      "  add\n",
      "   add\n",
      "     6\n",
      "    p0\n",
      "    3\n",
      " add\n",
      "  p1\n",
      "  isgreater\n",
      "   p1\n",
      "   multiply\n",
      "     9\n",
      "    p1\n"
     ]
    }
   ],
   "source": [
    "random2.display()"
   ]
  },
  {
   "cell_type": "code",
   "execution_count": 73,
   "metadata": {
    "collapsed": false
   },
   "outputs": [
    {
     "name": "stdout",
     "output_type": "stream",
     "text": [
      "substract\n",
      " isgreater\n",
      "   3\n",
      "  add\n",
      "   add\n",
      "     6\n",
      "    p0\n",
      "    3\n",
      " add\n",
      "  p1\n",
      "  isgreater\n",
      "   p1\n",
      "   multiply\n",
      "     9\n",
      "    p1\n"
     ]
    }
   ],
   "source": [
    "muttree = mutate(random2, 2)\n",
    "muttree.display()"
   ]
  },
  {
   "cell_type": "code",
   "execution_count": 74,
   "metadata": {
    "collapsed": false
   },
   "outputs": [
    {
     "data": {
      "text/plain": [
       "134960"
      ]
     },
     "execution_count": 74,
     "metadata": {},
     "output_type": "execute_result"
    }
   ],
   "source": [
    "scorefunction(random2,hiddenset)"
   ]
  },
  {
   "cell_type": "code",
   "execution_count": 75,
   "metadata": {
    "collapsed": false
   },
   "outputs": [
    {
     "data": {
      "text/plain": [
       "134960"
      ]
     },
     "execution_count": 75,
     "metadata": {},
     "output_type": "execute_result"
    }
   ],
   "source": [
    "scorefunction(muttree, hiddenset)"
   ]
  },
  {
   "cell_type": "code",
   "execution_count": null,
   "metadata": {
    "collapsed": true
   },
   "outputs": [],
   "source": []
  }
 ],
 "metadata": {
  "kernelspec": {
   "display_name": "Python 3",
   "language": "python",
   "name": "python3"
  },
  "language_info": {
   "codemirror_mode": {
    "name": "ipython",
    "version": 3
   },
   "file_extension": ".py",
   "mimetype": "text/x-python",
   "name": "python",
   "nbconvert_exporter": "python",
   "pygments_lexer": "ipython3",
   "version": "3.5.3"
  }
 },
 "nbformat": 4,
 "nbformat_minor": 2
}
